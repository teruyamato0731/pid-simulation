{
 "cells": [
  {
   "cell_type": "markdown",
   "metadata": {},
   "source": [
    "# オンオフ制御"
   ]
  },
  {
   "cell_type": "code",
   "execution_count": 1,
   "metadata": {},
   "outputs": [
    {
     "data": {
      "image/png": "[encoded data removed]",
      "text/plain": [
       "<Figure size 640x480 with 1 Axes>"
      ]
     },
     "metadata": {},
     "output_type": "display_data"
    }
   ],
   "source": [
    "import matplotlib.pyplot as plt\n",
    "import numpy as np\n",
    "from mpl_toolkits.axisartist.axislines import SubplotZero\n",
    "\n",
    "# 数式はTexのフォントで表示\n",
    "plt.rcParams['mathtext.fontset'] = 'cm'\n",
    "\n",
    "# 操作量\n",
    "U = 1.0\n",
    "# 偏差 -1.0 ～ 1.0\n",
    "e = np.linspace(-1.0, 1.0, 100)\n",
    "# 操作量\n",
    "u = np.zeros(100)\n",
    "u[e > 0] = U\n",
    "u[e < 0] = -U\n",
    "\n",
    "fig = plt.figure()\n",
    "ax = SubplotZero(fig, 111)\n",
    "fig.add_subplot(ax)\n",
    "\n",
    "ax.plot(0, 0, color='black', marker='o')\n",
    "\n",
    "ax.plot(e[e > 0], U * np.ones(50), color='red')\n",
    "ax.scatter(0, U, facecolor='w', edgecolors='red', marker='o')\n",
    "ax.text(-0.05, U, r'$u_c$', fontsize=20, horizontalalignment='right')\n",
    "\n",
    "ax.plot(e[e < 0], -U * np.ones(50), color=\"blue\")\n",
    "ax.scatter(0, -U, facecolor='w', edgecolors='blue', marker='o')\n",
    "ax.text(0.05, -U, r'$-u_c$', fontsize=20, horizontalalignment='left')\n",
    "\n",
    "ax.text(1, -0.05, r\"$e(t)$\", fontsize=20, verticalalignment='top')\n",
    "ax.text(0.05, 1.2, r\"$u(t)$\", fontsize=20, horizontalalignment='left')\n",
    "ax.text(-0.05, -0.05, r\"$O$\", fontsize=20, horizontalalignment='right', verticalalignment='top')\n",
    "\n",
    "ax.text(0.5, 1, r'ON', color='red', fontsize=20, horizontalalignment='center', verticalalignment='top')\n",
    "ax.text(-0.5, -1, r'OFF', color='blue', fontsize=20, horizontalalignment='center', verticalalignment='bottom')\n",
    "\n",
    "for direction in [\"xzero\", \"yzero\"]:\n",
    "  # (0,0)を通る軸を表示する\n",
    "  ax.axis[direction].set_visible(True)\n",
    "\n",
    "  # 各軸の端を矢印にする\n",
    "  ax.axis[direction].set_axisline_style(\"->\", size=2)\n",
    "\n",
    "for direction in [\"left\", \"right\", \"bottom\", \"top\"]:\n",
    "  # 図の枠を非表示にする\n",
    "  ax.axis[direction].set_visible(False)\n",
    "\n",
    "ax.axis['left'].set_axisline_style(\"->\")\n",
    "\n",
    "ax.axes.xaxis.set_ticks([])\n",
    "ax.axes.yaxis.set_ticks([])\n",
    "# ax.axes.xaxis.set_ticklabels([])\n",
    "# ax.axes.yaxis.set_ticklabels([])\n",
    "\n",
    "plt.show()"
   ]
  }
 ],
 "metadata": {
  "kernelspec": {
   "display_name": "Python 3",
   "language": "python",
   "name": "python3"
  },
  "language_info": {
   "codemirror_mode": {
    "name": "ipython",
    "version": 3
   },
   "file_extension": ".py",
   "mimetype": "text/x-python",
   "name": "python",
   "nbconvert_exporter": "python",
   "pygments_lexer": "ipython3",
   "version": "3.10.12"
  }
 },
 "nbformat": 4,
 "nbformat_minor": 2
}
